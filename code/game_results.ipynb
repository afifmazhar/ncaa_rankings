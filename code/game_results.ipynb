{
 "cells": [
  {
   "cell_type": "code",
   "execution_count": 1,
   "metadata": {},
   "outputs": [],
   "source": [
    "import pandas as pd"
   ]
  },
  {
   "cell_type": "code",
   "execution_count": 2,
   "metadata": {},
   "outputs": [],
   "source": [
    "#df_rpi = (pd.read_csv(\"\")\n",
    "#)\n",
    "\n"
   ]
  },
  {
   "cell_type": "code",
   "execution_count": 3,
   "metadata": {},
   "outputs": [],
   "source": [
    "#df_srs = (pd.read_csv(\"\")\n",
    "#)"
   ]
  },
  {
   "cell_type": "code",
   "execution_count": 13,
   "metadata": {},
   "outputs": [
    {
     "data": {
      "text/html": [
       "<div>\n",
       "<style scoped>\n",
       "    .dataframe tbody tr th:only-of-type {\n",
       "        vertical-align: middle;\n",
       "    }\n",
       "\n",
       "    .dataframe tbody tr th {\n",
       "        vertical-align: top;\n",
       "    }\n",
       "\n",
       "    .dataframe thead th {\n",
       "        text-align: right;\n",
       "    }\n",
       "</style>\n",
       "<table border=\"1\" class=\"dataframe\">\n",
       "  <thead>\n",
       "    <tr style=\"text-align: right;\">\n",
       "      <th></th>\n",
       "      <th>yearê</th>\n",
       "      <th>roundê</th>\n",
       "      <th>seed1</th>\n",
       "      <th>team1</th>\n",
       "      <th>score1</th>\n",
       "      <th>seed2</th>\n",
       "      <th>team2</th>\n",
       "      <th>score2</th>\n",
       "    </tr>\n",
       "  </thead>\n",
       "  <tbody>\n",
       "    <tr>\n",
       "      <th>0</th>\n",
       "      <td>2019</td>\n",
       "      <td>National Championship</td>\n",
       "      <td>1</td>\n",
       "      <td>Virginia</td>\n",
       "      <td>85</td>\n",
       "      <td>3</td>\n",
       "      <td>Texas Tech</td>\n",
       "      <td>77</td>\n",
       "    </tr>\n",
       "    <tr>\n",
       "      <th>1</th>\n",
       "      <td>2019</td>\n",
       "      <td>Final Four</td>\n",
       "      <td>2</td>\n",
       "      <td>Michigan State</td>\n",
       "      <td>51</td>\n",
       "      <td>3</td>\n",
       "      <td>Texas Tech</td>\n",
       "      <td>61</td>\n",
       "    </tr>\n",
       "    <tr>\n",
       "      <th>2</th>\n",
       "      <td>2019</td>\n",
       "      <td>Final Four</td>\n",
       "      <td>1</td>\n",
       "      <td>Virginia</td>\n",
       "      <td>63</td>\n",
       "      <td>4</td>\n",
       "      <td>Auburn</td>\n",
       "      <td>62</td>\n",
       "    </tr>\n",
       "    <tr>\n",
       "      <th>3</th>\n",
       "      <td>2019</td>\n",
       "      <td>Elite Eight</td>\n",
       "      <td>1</td>\n",
       "      <td>Virginia</td>\n",
       "      <td>80</td>\n",
       "      <td>3</td>\n",
       "      <td>Purdue</td>\n",
       "      <td>75</td>\n",
       "    </tr>\n",
       "    <tr>\n",
       "      <th>4</th>\n",
       "      <td>2019</td>\n",
       "      <td>Elite Eight</td>\n",
       "      <td>1</td>\n",
       "      <td>Gonzaga</td>\n",
       "      <td>69</td>\n",
       "      <td>3</td>\n",
       "      <td>Texas Tech</td>\n",
       "      <td>75</td>\n",
       "    </tr>\n",
       "  </tbody>\n",
       "</table>\n",
       "</div>"
      ],
      "text/plain": [
       "   yearê                 roundê  seed1           team1  score1  seed2  \\\n",
       "0   2019  National Championship      1        Virginia      85      3   \n",
       "1   2019             Final Four      2  Michigan State      51      3   \n",
       "2   2019             Final Four      1        Virginia      63      4   \n",
       "3   2019            Elite Eight      1        Virginia      80      3   \n",
       "4   2019            Elite Eight      1         Gonzaga      69      3   \n",
       "\n",
       "        team2  score2  \n",
       "0  Texas Tech      77  \n",
       "1  Texas Tech      61  \n",
       "2      Auburn      62  \n",
       "3      Purdue      75  \n",
       "4  Texas Tech      75  "
      ]
     },
     "execution_count": 13,
     "metadata": {},
     "output_type": "execute_result"
    }
   ],
   "source": [
    "df_full = (\n",
    "    pd.read_csv(\"../data/raw/score_seed_data_dirty.csv\", encoding=\"ISO-8859-1\")\n",
    "    .rename(columns=str.lower)\n",
    "    \n",
    ")\n",
    "\n",
    "df_full.head()"
   ]
  }
 ],
 "metadata": {
  "interpreter": {
   "hash": "a2d8618fdbd1c2789ab30b198ccd255fc41e6992b3eb69a1a44fbcf314b0f808"
  },
  "kernelspec": {
   "display_name": "Python 3.9.7 ('base')",
   "language": "python",
   "name": "python3"
  },
  "language_info": {
   "codemirror_mode": {
    "name": "ipython",
    "version": 3
   },
   "file_extension": ".py",
   "mimetype": "text/x-python",
   "name": "python",
   "nbconvert_exporter": "python",
   "pygments_lexer": "ipython3",
   "version": "3.9.7"
  },
  "orig_nbformat": 4
 },
 "nbformat": 4,
 "nbformat_minor": 2
}
