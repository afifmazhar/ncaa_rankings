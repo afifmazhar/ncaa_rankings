{
 "cells": [
  {
   "cell_type": "code",
   "execution_count": 58,
   "metadata": {},
   "outputs": [],
   "source": [
    "import pandas as pd\n",
    "import os\n"
   ]
  },
  {
   "cell_type": "code",
   "execution_count": 59,
   "metadata": {},
   "outputs": [],
   "source": [
    "#df_rpi = (pd.read_csv(\"\")\n",
    "#)\n",
    "\n"
   ]
  },
  {
   "cell_type": "code",
   "execution_count": 60,
   "metadata": {},
   "outputs": [],
   "source": [
    "#df_srs = (pd.read_csv(\"..data\")\n",
    "#)"
   ]
  },
  {
   "cell_type": "code",
   "execution_count": 61,
   "metadata": {},
   "outputs": [],
   "source": [
    "df_full = (\n",
    "    pd.read_csv(\"../data/raw/score_seed_data_dirty.csv\", encoding=\"ISO-8859-1\")\n",
    "    .rename(columns=str.lower)\n",
    "    .rename(columns={'yearê':'year','roundê':'round'})\n",
    "    .drop(index = range(1684,2251))\n",
    ")\n",
    "df_full['score_diff'] = df_full['score1'].sub(df_full['score2'], axis=0)\n",
    "df_full['seed_diff'] = df_full['seed1'].sub(df_full['seed2'], axis=0)\n",
    "\n",
    "\n",
    "#df_full\n"
   ]
  },
  {
   "cell_type": "code",
   "execution_count": 63,
   "metadata": {},
   "outputs": [],
   "source": [
    "df_full.to_csv(os.path.join(\"..\",\"data\", \"clean\", \"game_results_clean.csv\"), index = False)"
   ]
  }
 ],
 "metadata": {
  "interpreter": {
   "hash": "a2d8618fdbd1c2789ab30b198ccd255fc41e6992b3eb69a1a44fbcf314b0f808"
  },
  "kernelspec": {
   "display_name": "Python 3.9.7 ('base')",
   "language": "python",
   "name": "python3"
  },
  "language_info": {
   "codemirror_mode": {
    "name": "ipython",
    "version": 3
   },
   "file_extension": ".py",
   "mimetype": "text/x-python",
   "name": "python",
   "nbconvert_exporter": "python",
   "pygments_lexer": "ipython3",
   "version": "3.9.7"
  },
  "orig_nbformat": 4
 },
 "nbformat": 4,
 "nbformat_minor": 2
}
